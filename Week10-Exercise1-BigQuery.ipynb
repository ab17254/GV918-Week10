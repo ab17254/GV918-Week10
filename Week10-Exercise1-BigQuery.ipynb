{
  "nbformat": 4,
  "nbformat_minor": 0,
  "metadata": {
    "colab": {
      "name": "Week10- Exercise1-BigQuery.ipynb",
      "provenance": [],
      "collapsed_sections": []
    },
    "kernelspec": {
      "name": "python3",
      "display_name": "Python 3"
    }
  },
  "cells": [
    {
      "cell_type": "markdown",
      "metadata": {
        "id": "wIAXoU2VLsGP"
      },
      "source": [
        "# Tasks\n",
        "\n",
        "- We will work with Google BigQuery from Colab\n",
        "- Some part of the instructions is coming from https://colab.research.google.com/notebooks/bigquery.ipynb\n",
        "- We will use covid-19-public-data\n",
        "- In particular, we use extract the UK data\n",
        "  1. Check what kind of data are available\n",
        "  2. Find out what we can do with the data\n",
        "\n"
      ]
    },
    {
      "cell_type": "markdown",
      "metadata": {
        "id": "H1nUZfvpMfzf"
      },
      "source": [
        "## Authentication\n",
        "\n",
        "The first step is to "
      ]
    },
    {
      "cell_type": "code",
      "metadata": {
        "colab": {
          "base_uri": "https://localhost:8080/"
        },
        "id": "8gLcMGytLruW",
        "outputId": "2f67f978-2fda-4b88-d1f4-04c6a5c008a1"
      },
      "source": [
        "from google.colab import auth\n",
        "auth.authenticate_user()\n",
        "print('Authenticated')"
      ],
      "execution_count": 1,
      "outputs": [
        {
          "output_type": "stream",
          "text": [
            "Authenticated\n"
          ],
          "name": "stdout"
        }
      ]
    },
    {
      "cell_type": "markdown",
      "metadata": {
        "id": "5HnTw4X_MmOJ"
      },
      "source": [
        "## Load pacakges"
      ]
    },
    {
      "cell_type": "code",
      "metadata": {
        "id": "Va7sjKyJLjcY"
      },
      "source": [
        "from google.cloud import bigquery\n",
        "import pandas as pd"
      ],
      "execution_count": 2,
      "outputs": []
    },
    {
      "cell_type": "markdown",
      "metadata": {
        "id": "9JEFeinsNhEu"
      },
      "source": [
        "## Connect to big query"
      ]
    },
    {
      "cell_type": "markdown",
      "metadata": {
        "id": "tvdEdycIM39t"
      },
      "source": [
        "Go to the console and check your project name and paste here"
      ]
    },
    {
      "cell_type": "code",
      "metadata": {
        "id": "3K5m03VpM13u"
      },
      "source": [
        "project_id = \"gv918-298014\""
      ],
      "execution_count": 3,
      "outputs": []
    },
    {
      "cell_type": "code",
      "metadata": {
        "id": "GxGGYUXvNpQw"
      },
      "source": [
        "client = bigquery.Client(project=project_id)"
      ],
      "execution_count": 4,
      "outputs": []
    },
    {
      "cell_type": "markdown",
      "metadata": {
        "id": "20-SSUOSM--9"
      },
      "source": [
        "## Run queries\n",
        "\n",
        "We will use `bigquery-public-data.covid19_open_data.covid19_open_data`"
      ]
    },
    {
      "cell_type": "markdown",
      "metadata": {
        "id": "t3xk9dSQNMWH"
      },
      "source": [
        "### Simple query\n",
        "\n",
        "Get five rows from the table\n",
        "\n",
        "- How many rows in the table?\n",
        "- How many columns exist?"
      ]
    },
    {
      "cell_type": "code",
      "metadata": {
        "id": "fxc8pn3-NLrO"
      },
      "source": [
        "df = client.query('''\n",
        "SELECT * FROM `bigquery-public-data.covid19_open_data.covid19_open_data` LIMIT 10\n",
        "''').to_dataframe()"
      ],
      "execution_count": 12,
      "outputs": []
    },
    {
      "cell_type": "code",
      "metadata": {
        "id": "IzGd8-00zV5x",
        "outputId": "abdb9c6f-259f-434b-dc6c-e856f3773e5b",
        "colab": {
          "base_uri": "https://localhost:8080/",
          "height": 80
        }
      },
      "source": [
        "client.query('''\n",
        "SELECT COUNT(*) FROM `bigquery-public-data.covid19_open_data.covid19_open_data`\n",
        "''').to_dataframe()"
      ],
      "execution_count": 16,
      "outputs": [
        {
          "output_type": "execute_result",
          "data": {
            "text/html": [
              "<div>\n",
              "<style scoped>\n",
              "    .dataframe tbody tr th:only-of-type {\n",
              "        vertical-align: middle;\n",
              "    }\n",
              "\n",
              "    .dataframe tbody tr th {\n",
              "        vertical-align: top;\n",
              "    }\n",
              "\n",
              "    .dataframe thead th {\n",
              "        text-align: right;\n",
              "    }\n",
              "</style>\n",
              "<table border=\"1\" class=\"dataframe\">\n",
              "  <thead>\n",
              "    <tr style=\"text-align: right;\">\n",
              "      <th></th>\n",
              "      <th>f0_</th>\n",
              "    </tr>\n",
              "  </thead>\n",
              "  <tbody>\n",
              "    <tr>\n",
              "      <th>0</th>\n",
              "      <td>7397720</td>\n",
              "    </tr>\n",
              "  </tbody>\n",
              "</table>\n",
              "</div>"
            ],
            "text/plain": [
              "       f0_\n",
              "0  7397720"
            ]
          },
          "metadata": {
            "tags": []
          },
          "execution_count": 16
        }
      ]
    },
    {
      "cell_type": "code",
      "metadata": {
        "id": "Qp0YlCsSxD-k",
        "outputId": "5645cff9-c770-4da9-e2ff-20b95e308f00",
        "colab": {
          "base_uri": "https://localhost:8080/"
        }
      },
      "source": [
        "df.shape"
      ],
      "execution_count": 14,
      "outputs": [
        {
          "output_type": "execute_result",
          "data": {
            "text/plain": [
              "(10, 45)"
            ]
          },
          "metadata": {
            "tags": []
          },
          "execution_count": 14
        }
      ]
    },
    {
      "cell_type": "markdown",
      "metadata": {
        "id": "j3-5mDRjOLuw"
      },
      "source": [
        "### Explore the table\n",
        "\n",
        "- How many countries in the data\n",
        "- How many UK rows?\n",
        "- What's the geographical units for the UK subnational levels"
      ]
    },
    {
      "cell_type": "code",
      "metadata": {
        "id": "JSA5JT2kfQkX",
        "outputId": "ae34d236-c8cd-4cce-bbfd-75e9787464dc",
        "colab": {
          "base_uri": "https://localhost:8080/",
          "height": 80
        }
      },
      "source": [
        "client.query('''\n",
        "SELECT COUNT(DISTINCT country_name) FROM `bigquery-public-data.covid19_open_data.covid19_open_data`\n",
        "''').to_dataframe()"
      ],
      "execution_count": 18,
      "outputs": [
        {
          "output_type": "execute_result",
          "data": {
            "text/html": [
              "<div>\n",
              "<style scoped>\n",
              "    .dataframe tbody tr th:only-of-type {\n",
              "        vertical-align: middle;\n",
              "    }\n",
              "\n",
              "    .dataframe tbody tr th {\n",
              "        vertical-align: top;\n",
              "    }\n",
              "\n",
              "    .dataframe thead th {\n",
              "        text-align: right;\n",
              "    }\n",
              "</style>\n",
              "<table border=\"1\" class=\"dataframe\">\n",
              "  <thead>\n",
              "    <tr style=\"text-align: right;\">\n",
              "      <th></th>\n",
              "      <th>f0_</th>\n",
              "    </tr>\n",
              "  </thead>\n",
              "  <tbody>\n",
              "    <tr>\n",
              "      <th>0</th>\n",
              "      <td>248</td>\n",
              "    </tr>\n",
              "  </tbody>\n",
              "</table>\n",
              "</div>"
            ],
            "text/plain": [
              "   f0_\n",
              "0  248"
            ]
          },
          "metadata": {
            "tags": []
          },
          "execution_count": 18
        }
      ]
    },
    {
      "cell_type": "code",
      "metadata": {
        "id": "lCH05pQY1swY",
        "outputId": "6fb4ed3f-fc53-47e8-82c9-3a103991d1ba",
        "colab": {
          "base_uri": "https://localhost:8080/",
          "height": 80
        }
      },
      "source": [
        "client.query('''\n",
        "SELECT COUNT(country_name) \n",
        "FROM `bigquery-public-data.covid19_open_data.covid19_open_data` \n",
        "WHERE country_code = \"GB\"\n",
        "''').to_dataframe()"
      ],
      "execution_count": 21,
      "outputs": [
        {
          "output_type": "execute_result",
          "data": {
            "text/html": [
              "<div>\n",
              "<style scoped>\n",
              "    .dataframe tbody tr th:only-of-type {\n",
              "        vertical-align: middle;\n",
              "    }\n",
              "\n",
              "    .dataframe tbody tr th {\n",
              "        vertical-align: top;\n",
              "    }\n",
              "\n",
              "    .dataframe thead th {\n",
              "        text-align: right;\n",
              "    }\n",
              "</style>\n",
              "<table border=\"1\" class=\"dataframe\">\n",
              "  <thead>\n",
              "    <tr style=\"text-align: right;\">\n",
              "      <th></th>\n",
              "      <th>f0_</th>\n",
              "    </tr>\n",
              "  </thead>\n",
              "  <tbody>\n",
              "    <tr>\n",
              "      <th>0</th>\n",
              "      <td>67768</td>\n",
              "    </tr>\n",
              "  </tbody>\n",
              "</table>\n",
              "</div>"
            ],
            "text/plain": [
              "     f0_\n",
              "0  67768"
            ]
          },
          "metadata": {
            "tags": []
          },
          "execution_count": 21
        }
      ]
    },
    {
      "cell_type": "markdown",
      "metadata": {
        "id": "_NZQf_pJPvNz"
      },
      "source": [
        "- What's the latest date in the UK?"
      ]
    },
    {
      "cell_type": "code",
      "metadata": {
        "id": "x4_AtTwafR5M",
        "outputId": "9a50f6d6-a7ad-4ef6-aa35-9c2ee866da11",
        "colab": {
          "base_uri": "https://localhost:8080/",
          "height": 80
        }
      },
      "source": [
        "client.query('''\n",
        "SELECT MAX(date) \n",
        "FROM `bigquery-public-data.covid19_open_data.covid19_open_data` \n",
        "WHERE country_code = \"GB\"\n",
        "''').to_dataframe()"
      ],
      "execution_count": 25,
      "outputs": [
        {
          "output_type": "execute_result",
          "data": {
            "text/html": [
              "<div>\n",
              "<style scoped>\n",
              "    .dataframe tbody tr th:only-of-type {\n",
              "        vertical-align: middle;\n",
              "    }\n",
              "\n",
              "    .dataframe tbody tr th {\n",
              "        vertical-align: top;\n",
              "    }\n",
              "\n",
              "    .dataframe thead th {\n",
              "        text-align: right;\n",
              "    }\n",
              "</style>\n",
              "<table border=\"1\" class=\"dataframe\">\n",
              "  <thead>\n",
              "    <tr style=\"text-align: right;\">\n",
              "      <th></th>\n",
              "      <th>f0_</th>\n",
              "    </tr>\n",
              "  </thead>\n",
              "  <tbody>\n",
              "    <tr>\n",
              "      <th>0</th>\n",
              "      <td>2020-12-09</td>\n",
              "    </tr>\n",
              "  </tbody>\n",
              "</table>\n",
              "</div>"
            ],
            "text/plain": [
              "          f0_\n",
              "0  2020-12-09"
            ]
          },
          "metadata": {
            "tags": []
          },
          "execution_count": 25
        }
      ]
    },
    {
      "cell_type": "markdown",
      "metadata": {
        "id": "NmT5Tq_RQIqN"
      },
      "source": [
        "- On 1 December 2020, at subregion2 level\n",
        "  - Which sub region had the highest number of qumulative cases"
      ]
    },
    {
      "cell_type": "code",
      "metadata": {
        "id": "R7uhP7XefUFW",
        "outputId": "7dda617d-db1a-426d-c26d-da91df42178a",
        "colab": {
          "base_uri": "https://localhost:8080/",
          "height": 609
        }
      },
      "source": [
        "client.query('''\n",
        "SELECT *\n",
        "FROM `bigquery-public-data.covid19_open_data.covid19_open_data` \n",
        "WHERE country_code = \"GB\" AND date = \"2020-12-01\" AND subregion2_code != \"None\"\n",
        "ORDER BY cumulative_confirmed\tDESC\n",
        "''').to_dataframe()"
      ],
      "execution_count": 31,
      "outputs": [
        {
          "output_type": "execute_result",
          "data": {
            "text/html": [
              "<div>\n",
              "<style scoped>\n",
              "    .dataframe tbody tr th:only-of-type {\n",
              "        vertical-align: middle;\n",
              "    }\n",
              "\n",
              "    .dataframe tbody tr th {\n",
              "        vertical-align: top;\n",
              "    }\n",
              "\n",
              "    .dataframe thead th {\n",
              "        text-align: right;\n",
              "    }\n",
              "</style>\n",
              "<table border=\"1\" class=\"dataframe\">\n",
              "  <thead>\n",
              "    <tr style=\"text-align: right;\">\n",
              "      <th></th>\n",
              "      <th>date</th>\n",
              "      <th>location_key</th>\n",
              "      <th>country_code</th>\n",
              "      <th>country_name</th>\n",
              "      <th>subregion1_code</th>\n",
              "      <th>subregion1_name</th>\n",
              "      <th>subregion2_code</th>\n",
              "      <th>subregion2_name</th>\n",
              "      <th>iso_3166_1_alpha_2</th>\n",
              "      <th>iso_3166_1_alpha_3</th>\n",
              "      <th>aggregation_level</th>\n",
              "      <th>new_confirmed</th>\n",
              "      <th>new_deceased</th>\n",
              "      <th>new_recovered</th>\n",
              "      <th>new_tested</th>\n",
              "      <th>cumulative_confirmed</th>\n",
              "      <th>cumulative_deceased</th>\n",
              "      <th>cumulative_recovered</th>\n",
              "      <th>cumulative_tested</th>\n",
              "      <th>new_hospitalized_patients</th>\n",
              "      <th>new_intensive_care_patients</th>\n",
              "      <th>new_ventilator_patients</th>\n",
              "      <th>cumulative_hospitalized_patients</th>\n",
              "      <th>cumulative_intensive_care_patients</th>\n",
              "      <th>cumulative_ventilator_patients</th>\n",
              "      <th>current_hospitalized_patients</th>\n",
              "      <th>current_intensive_care_patients</th>\n",
              "      <th>current_ventilator_patients</th>\n",
              "      <th>mobility_transit_stations</th>\n",
              "      <th>mobility_retail_and_recreation</th>\n",
              "      <th>mobility_grocery_and_pharmacy</th>\n",
              "      <th>mobility_parks</th>\n",
              "      <th>mobility_residential</th>\n",
              "      <th>mobility_workplaces</th>\n",
              "      <th>wikidata_id</th>\n",
              "      <th>datacommons_id</th>\n",
              "      <th>openstreetmap_id</th>\n",
              "      <th>latitude</th>\n",
              "      <th>longitude</th>\n",
              "      <th>location_geometry</th>\n",
              "      <th>average_temperature_celsius</th>\n",
              "      <th>minimum_temperature_celsius</th>\n",
              "      <th>maximum_temperature_celsius</th>\n",
              "      <th>rainfall_mm</th>\n",
              "      <th>snowfall_mm</th>\n",
              "    </tr>\n",
              "  </thead>\n",
              "  <tbody>\n",
              "    <tr>\n",
              "      <th>0</th>\n",
              "      <td>2020-12-01</td>\n",
              "      <td>GB_ENG_E10000017</td>\n",
              "      <td>GB</td>\n",
              "      <td>United Kingdom</td>\n",
              "      <td>ENG</td>\n",
              "      <td>England</td>\n",
              "      <td>E10000017</td>\n",
              "      <td>Lancashire</td>\n",
              "      <td>GB</td>\n",
              "      <td>GBR</td>\n",
              "      <td>2</td>\n",
              "      <td>318.0</td>\n",
              "      <td>None</td>\n",
              "      <td>None</td>\n",
              "      <td>None</td>\n",
              "      <td>48486.0</td>\n",
              "      <td>None</td>\n",
              "      <td>None</td>\n",
              "      <td>None</td>\n",
              "      <td>None</td>\n",
              "      <td>None</td>\n",
              "      <td>None</td>\n",
              "      <td>None</td>\n",
              "      <td>None</td>\n",
              "      <td>None</td>\n",
              "      <td>None</td>\n",
              "      <td>None</td>\n",
              "      <td>None</td>\n",
              "      <td>-38.0</td>\n",
              "      <td>-36.0</td>\n",
              "      <td>-5.0</td>\n",
              "      <td>35.0</td>\n",
              "      <td>13.0</td>\n",
              "      <td>-30.0</td>\n",
              "      <td>Q21279371</td>\n",
              "      <td>None</td>\n",
              "      <td>88081.0</td>\n",
              "      <td>53.800000</td>\n",
              "      <td>-2.600000</td>\n",
              "      <td>POINT(-2.6 53.8)</td>\n",
              "      <td>4.783333</td>\n",
              "      <td>2.094444</td>\n",
              "      <td>6.877778</td>\n",
              "      <td>0.812800</td>\n",
              "      <td>None</td>\n",
              "    </tr>\n",
              "    <tr>\n",
              "      <th>1</th>\n",
              "      <td>2020-12-01</td>\n",
              "      <td>GB_ENG_E08000025</td>\n",
              "      <td>GB</td>\n",
              "      <td>United Kingdom</td>\n",
              "      <td>ENG</td>\n",
              "      <td>England</td>\n",
              "      <td>E08000025</td>\n",
              "      <td>Birmingham</td>\n",
              "      <td>GB</td>\n",
              "      <td>GBR</td>\n",
              "      <td>2</td>\n",
              "      <td>325.0</td>\n",
              "      <td>None</td>\n",
              "      <td>None</td>\n",
              "      <td>None</td>\n",
              "      <td>41136.0</td>\n",
              "      <td>None</td>\n",
              "      <td>None</td>\n",
              "      <td>None</td>\n",
              "      <td>None</td>\n",
              "      <td>None</td>\n",
              "      <td>None</td>\n",
              "      <td>None</td>\n",
              "      <td>None</td>\n",
              "      <td>None</td>\n",
              "      <td>None</td>\n",
              "      <td>None</td>\n",
              "      <td>None</td>\n",
              "      <td>-56.0</td>\n",
              "      <td>-47.0</td>\n",
              "      <td>-8.0</td>\n",
              "      <td>-12.0</td>\n",
              "      <td>14.0</td>\n",
              "      <td>-35.0</td>\n",
              "      <td>Q20986424</td>\n",
              "      <td>None</td>\n",
              "      <td>162378.0</td>\n",
              "      <td>52.480480</td>\n",
              "      <td>-1.898230</td>\n",
              "      <td>POINT(-1.89823 52.48048)</td>\n",
              "      <td>4.316667</td>\n",
              "      <td>1.255556</td>\n",
              "      <td>7.177778</td>\n",
              "      <td>0.254000</td>\n",
              "      <td>None</td>\n",
              "    </tr>\n",
              "    <tr>\n",
              "      <th>2</th>\n",
              "      <td>2020-12-01</td>\n",
              "      <td>GB_ENG_E08000035</td>\n",
              "      <td>GB</td>\n",
              "      <td>United Kingdom</td>\n",
              "      <td>ENG</td>\n",
              "      <td>England</td>\n",
              "      <td>E08000035</td>\n",
              "      <td>Leeds</td>\n",
              "      <td>GB</td>\n",
              "      <td>GBR</td>\n",
              "      <td>2</td>\n",
              "      <td>200.0</td>\n",
              "      <td>None</td>\n",
              "      <td>None</td>\n",
              "      <td>None</td>\n",
              "      <td>36229.0</td>\n",
              "      <td>None</td>\n",
              "      <td>None</td>\n",
              "      <td>None</td>\n",
              "      <td>None</td>\n",
              "      <td>None</td>\n",
              "      <td>None</td>\n",
              "      <td>None</td>\n",
              "      <td>None</td>\n",
              "      <td>None</td>\n",
              "      <td>None</td>\n",
              "      <td>None</td>\n",
              "      <td>None</td>\n",
              "      <td>-61.0</td>\n",
              "      <td>-51.0</td>\n",
              "      <td>-11.0</td>\n",
              "      <td>33.0</td>\n",
              "      <td>17.0</td>\n",
              "      <td>-45.0</td>\n",
              "      <td>Q774015</td>\n",
              "      <td>nuts/UKE42</td>\n",
              "      <td>118362.0</td>\n",
              "      <td>53.799167</td>\n",
              "      <td>-1.549167</td>\n",
              "      <td>POINT(-1.549167 53.799167)</td>\n",
              "      <td>4.077778</td>\n",
              "      <td>0.705556</td>\n",
              "      <td>6.711111</td>\n",
              "      <td>0.203200</td>\n",
              "      <td>None</td>\n",
              "    </tr>\n",
              "    <tr>\n",
              "      <th>3</th>\n",
              "      <td>2020-12-01</td>\n",
              "      <td>GB_SCT_S08000031</td>\n",
              "      <td>GB</td>\n",
              "      <td>United Kingdom</td>\n",
              "      <td>SCT</td>\n",
              "      <td>Scotland</td>\n",
              "      <td>S08000031</td>\n",
              "      <td>Greater Glasgow and Clyde</td>\n",
              "      <td>GB</td>\n",
              "      <td>GBR</td>\n",
              "      <td>2</td>\n",
              "      <td>275.0</td>\n",
              "      <td>None</td>\n",
              "      <td>None</td>\n",
              "      <td>None</td>\n",
              "      <td>33302.0</td>\n",
              "      <td>None</td>\n",
              "      <td>None</td>\n",
              "      <td>None</td>\n",
              "      <td>None</td>\n",
              "      <td>None</td>\n",
              "      <td>None</td>\n",
              "      <td>None</td>\n",
              "      <td>None</td>\n",
              "      <td>None</td>\n",
              "      <td>None</td>\n",
              "      <td>None</td>\n",
              "      <td>None</td>\n",
              "      <td>NaN</td>\n",
              "      <td>NaN</td>\n",
              "      <td>NaN</td>\n",
              "      <td>NaN</td>\n",
              "      <td>NaN</td>\n",
              "      <td>NaN</td>\n",
              "      <td>None</td>\n",
              "      <td>None</td>\n",
              "      <td>NaN</td>\n",
              "      <td>NaN</td>\n",
              "      <td>NaN</td>\n",
              "      <td>None</td>\n",
              "      <td>NaN</td>\n",
              "      <td>NaN</td>\n",
              "      <td>NaN</td>\n",
              "      <td>NaN</td>\n",
              "      <td>None</td>\n",
              "    </tr>\n",
              "    <tr>\n",
              "      <th>4</th>\n",
              "      <td>2020-12-01</td>\n",
              "      <td>GB_ENG_E10000016</td>\n",
              "      <td>GB</td>\n",
              "      <td>United Kingdom</td>\n",
              "      <td>ENG</td>\n",
              "      <td>England</td>\n",
              "      <td>E10000016</td>\n",
              "      <td>Kent</td>\n",
              "      <td>GB</td>\n",
              "      <td>GBR</td>\n",
              "      <td>2</td>\n",
              "      <td>769.0</td>\n",
              "      <td>None</td>\n",
              "      <td>None</td>\n",
              "      <td>None</td>\n",
              "      <td>32234.0</td>\n",
              "      <td>None</td>\n",
              "      <td>None</td>\n",
              "      <td>None</td>\n",
              "      <td>None</td>\n",
              "      <td>None</td>\n",
              "      <td>None</td>\n",
              "      <td>None</td>\n",
              "      <td>None</td>\n",
              "      <td>None</td>\n",
              "      <td>None</td>\n",
              "      <td>None</td>\n",
              "      <td>None</td>\n",
              "      <td>-35.0</td>\n",
              "      <td>-40.0</td>\n",
              "      <td>-7.0</td>\n",
              "      <td>3.0</td>\n",
              "      <td>15.0</td>\n",
              "      <td>-33.0</td>\n",
              "      <td>Q21694674</td>\n",
              "      <td>None</td>\n",
              "      <td>172385.0</td>\n",
              "      <td>51.190000</td>\n",
              "      <td>0.730000</td>\n",
              "      <td>POINT(0.73 51.19)</td>\n",
              "      <td>5.522222</td>\n",
              "      <td>3.522222</td>\n",
              "      <td>7.983333</td>\n",
              "      <td>0.203200</td>\n",
              "      <td>None</td>\n",
              "    </tr>\n",
              "    <tr>\n",
              "      <th>...</th>\n",
              "      <td>...</td>\n",
              "      <td>...</td>\n",
              "      <td>...</td>\n",
              "      <td>...</td>\n",
              "      <td>...</td>\n",
              "      <td>...</td>\n",
              "      <td>...</td>\n",
              "      <td>...</td>\n",
              "      <td>...</td>\n",
              "      <td>...</td>\n",
              "      <td>...</td>\n",
              "      <td>...</td>\n",
              "      <td>...</td>\n",
              "      <td>...</td>\n",
              "      <td>...</td>\n",
              "      <td>...</td>\n",
              "      <td>...</td>\n",
              "      <td>...</td>\n",
              "      <td>...</td>\n",
              "      <td>...</td>\n",
              "      <td>...</td>\n",
              "      <td>...</td>\n",
              "      <td>...</td>\n",
              "      <td>...</td>\n",
              "      <td>...</td>\n",
              "      <td>...</td>\n",
              "      <td>...</td>\n",
              "      <td>...</td>\n",
              "      <td>...</td>\n",
              "      <td>...</td>\n",
              "      <td>...</td>\n",
              "      <td>...</td>\n",
              "      <td>...</td>\n",
              "      <td>...</td>\n",
              "      <td>...</td>\n",
              "      <td>...</td>\n",
              "      <td>...</td>\n",
              "      <td>...</td>\n",
              "      <td>...</td>\n",
              "      <td>...</td>\n",
              "      <td>...</td>\n",
              "      <td>...</td>\n",
              "      <td>...</td>\n",
              "      <td>...</td>\n",
              "      <td>...</td>\n",
              "    </tr>\n",
              "    <tr>\n",
              "      <th>177</th>\n",
              "      <td>2020-12-01</td>\n",
              "      <td>GB_ENG_E06000017</td>\n",
              "      <td>GB</td>\n",
              "      <td>United Kingdom</td>\n",
              "      <td>ENG</td>\n",
              "      <td>England</td>\n",
              "      <td>E06000017</td>\n",
              "      <td>Rutland</td>\n",
              "      <td>GB</td>\n",
              "      <td>GBR</td>\n",
              "      <td>2</td>\n",
              "      <td>5.0</td>\n",
              "      <td>None</td>\n",
              "      <td>None</td>\n",
              "      <td>None</td>\n",
              "      <td>490.0</td>\n",
              "      <td>None</td>\n",
              "      <td>None</td>\n",
              "      <td>None</td>\n",
              "      <td>None</td>\n",
              "      <td>None</td>\n",
              "      <td>None</td>\n",
              "      <td>None</td>\n",
              "      <td>None</td>\n",
              "      <td>None</td>\n",
              "      <td>None</td>\n",
              "      <td>None</td>\n",
              "      <td>None</td>\n",
              "      <td>NaN</td>\n",
              "      <td>NaN</td>\n",
              "      <td>NaN</td>\n",
              "      <td>NaN</td>\n",
              "      <td>NaN</td>\n",
              "      <td>-29.0</td>\n",
              "      <td>Q23107</td>\n",
              "      <td>nuts/UKF22</td>\n",
              "      <td>2703126.0</td>\n",
              "      <td>52.650000</td>\n",
              "      <td>-0.633333</td>\n",
              "      <td>POINT(-0.633333 52.65)</td>\n",
              "      <td>4.166667</td>\n",
              "      <td>2.228395</td>\n",
              "      <td>6.987654</td>\n",
              "      <td>1.241778</td>\n",
              "      <td>None</td>\n",
              "    </tr>\n",
              "    <tr>\n",
              "      <th>178</th>\n",
              "      <td>2020-12-01</td>\n",
              "      <td>GB_SCT_S08000028</td>\n",
              "      <td>GB</td>\n",
              "      <td>United Kingdom</td>\n",
              "      <td>SCT</td>\n",
              "      <td>Scotland</td>\n",
              "      <td>S08000028</td>\n",
              "      <td>Western Isles</td>\n",
              "      <td>GB</td>\n",
              "      <td>GBR</td>\n",
              "      <td>2</td>\n",
              "      <td>1.0</td>\n",
              "      <td>None</td>\n",
              "      <td>None</td>\n",
              "      <td>None</td>\n",
              "      <td>82.0</td>\n",
              "      <td>None</td>\n",
              "      <td>None</td>\n",
              "      <td>None</td>\n",
              "      <td>None</td>\n",
              "      <td>None</td>\n",
              "      <td>None</td>\n",
              "      <td>None</td>\n",
              "      <td>None</td>\n",
              "      <td>None</td>\n",
              "      <td>None</td>\n",
              "      <td>None</td>\n",
              "      <td>None</td>\n",
              "      <td>NaN</td>\n",
              "      <td>NaN</td>\n",
              "      <td>NaN</td>\n",
              "      <td>NaN</td>\n",
              "      <td>NaN</td>\n",
              "      <td>NaN</td>\n",
              "      <td>None</td>\n",
              "      <td>None</td>\n",
              "      <td>NaN</td>\n",
              "      <td>NaN</td>\n",
              "      <td>NaN</td>\n",
              "      <td>None</td>\n",
              "      <td>NaN</td>\n",
              "      <td>NaN</td>\n",
              "      <td>NaN</td>\n",
              "      <td>NaN</td>\n",
              "      <td>None</td>\n",
              "    </tr>\n",
              "    <tr>\n",
              "      <th>179</th>\n",
              "      <td>2020-12-01</td>\n",
              "      <td>GB_SCT_S08000026</td>\n",
              "      <td>GB</td>\n",
              "      <td>United Kingdom</td>\n",
              "      <td>SCT</td>\n",
              "      <td>Scotland</td>\n",
              "      <td>S08000026</td>\n",
              "      <td>Shetland</td>\n",
              "      <td>GB</td>\n",
              "      <td>GBR</td>\n",
              "      <td>2</td>\n",
              "      <td>1.0</td>\n",
              "      <td>None</td>\n",
              "      <td>None</td>\n",
              "      <td>None</td>\n",
              "      <td>76.0</td>\n",
              "      <td>None</td>\n",
              "      <td>None</td>\n",
              "      <td>None</td>\n",
              "      <td>None</td>\n",
              "      <td>None</td>\n",
              "      <td>None</td>\n",
              "      <td>None</td>\n",
              "      <td>None</td>\n",
              "      <td>None</td>\n",
              "      <td>None</td>\n",
              "      <td>None</td>\n",
              "      <td>None</td>\n",
              "      <td>NaN</td>\n",
              "      <td>NaN</td>\n",
              "      <td>NaN</td>\n",
              "      <td>NaN</td>\n",
              "      <td>NaN</td>\n",
              "      <td>-19.0</td>\n",
              "      <td>None</td>\n",
              "      <td>None</td>\n",
              "      <td>NaN</td>\n",
              "      <td>NaN</td>\n",
              "      <td>NaN</td>\n",
              "      <td>None</td>\n",
              "      <td>NaN</td>\n",
              "      <td>NaN</td>\n",
              "      <td>NaN</td>\n",
              "      <td>NaN</td>\n",
              "      <td>None</td>\n",
              "    </tr>\n",
              "    <tr>\n",
              "      <th>180</th>\n",
              "      <td>2020-12-01</td>\n",
              "      <td>GB_SCT_S08000025</td>\n",
              "      <td>GB</td>\n",
              "      <td>United Kingdom</td>\n",
              "      <td>SCT</td>\n",
              "      <td>Scotland</td>\n",
              "      <td>S08000025</td>\n",
              "      <td>Orkney</td>\n",
              "      <td>GB</td>\n",
              "      <td>GBR</td>\n",
              "      <td>2</td>\n",
              "      <td>0.0</td>\n",
              "      <td>None</td>\n",
              "      <td>None</td>\n",
              "      <td>None</td>\n",
              "      <td>38.0</td>\n",
              "      <td>None</td>\n",
              "      <td>None</td>\n",
              "      <td>None</td>\n",
              "      <td>None</td>\n",
              "      <td>None</td>\n",
              "      <td>None</td>\n",
              "      <td>None</td>\n",
              "      <td>None</td>\n",
              "      <td>None</td>\n",
              "      <td>None</td>\n",
              "      <td>None</td>\n",
              "      <td>None</td>\n",
              "      <td>NaN</td>\n",
              "      <td>NaN</td>\n",
              "      <td>NaN</td>\n",
              "      <td>NaN</td>\n",
              "      <td>NaN</td>\n",
              "      <td>-18.0</td>\n",
              "      <td>None</td>\n",
              "      <td>None</td>\n",
              "      <td>NaN</td>\n",
              "      <td>NaN</td>\n",
              "      <td>NaN</td>\n",
              "      <td>None</td>\n",
              "      <td>NaN</td>\n",
              "      <td>NaN</td>\n",
              "      <td>NaN</td>\n",
              "      <td>NaN</td>\n",
              "      <td>None</td>\n",
              "    </tr>\n",
              "    <tr>\n",
              "      <th>181</th>\n",
              "      <td>2020-12-01</td>\n",
              "      <td>GB_ENG_E09000001</td>\n",
              "      <td>GB</td>\n",
              "      <td>United Kingdom</td>\n",
              "      <td>ENG</td>\n",
              "      <td>England</td>\n",
              "      <td>E09000001</td>\n",
              "      <td>City of London</td>\n",
              "      <td>GB</td>\n",
              "      <td>GBR</td>\n",
              "      <td>2</td>\n",
              "      <td>NaN</td>\n",
              "      <td>None</td>\n",
              "      <td>None</td>\n",
              "      <td>None</td>\n",
              "      <td>NaN</td>\n",
              "      <td>None</td>\n",
              "      <td>None</td>\n",
              "      <td>None</td>\n",
              "      <td>None</td>\n",
              "      <td>None</td>\n",
              "      <td>None</td>\n",
              "      <td>None</td>\n",
              "      <td>None</td>\n",
              "      <td>None</td>\n",
              "      <td>None</td>\n",
              "      <td>None</td>\n",
              "      <td>None</td>\n",
              "      <td>-79.0</td>\n",
              "      <td>-89.0</td>\n",
              "      <td>-72.0</td>\n",
              "      <td>-84.0</td>\n",
              "      <td>NaN</td>\n",
              "      <td>-66.0</td>\n",
              "      <td>Q23311</td>\n",
              "      <td>None</td>\n",
              "      <td>51800.0</td>\n",
              "      <td>51.515556</td>\n",
              "      <td>-0.093056</td>\n",
              "      <td>POINT(-0.093056 51.515556)</td>\n",
              "      <td>5.105556</td>\n",
              "      <td>3.122222</td>\n",
              "      <td>7.611111</td>\n",
              "      <td>0.076200</td>\n",
              "      <td>None</td>\n",
              "    </tr>\n",
              "  </tbody>\n",
              "</table>\n",
              "<p>182 rows × 45 columns</p>\n",
              "</div>"
            ],
            "text/plain": [
              "           date      location_key  ... rainfall_mm snowfall_mm\n",
              "0    2020-12-01  GB_ENG_E10000017  ...    0.812800        None\n",
              "1    2020-12-01  GB_ENG_E08000025  ...    0.254000        None\n",
              "2    2020-12-01  GB_ENG_E08000035  ...    0.203200        None\n",
              "3    2020-12-01  GB_SCT_S08000031  ...         NaN        None\n",
              "4    2020-12-01  GB_ENG_E10000016  ...    0.203200        None\n",
              "..          ...               ...  ...         ...         ...\n",
              "177  2020-12-01  GB_ENG_E06000017  ...    1.241778        None\n",
              "178  2020-12-01  GB_SCT_S08000028  ...         NaN        None\n",
              "179  2020-12-01  GB_SCT_S08000026  ...         NaN        None\n",
              "180  2020-12-01  GB_SCT_S08000025  ...         NaN        None\n",
              "181  2020-12-01  GB_ENG_E09000001  ...    0.076200        None\n",
              "\n",
              "[182 rows x 45 columns]"
            ]
          },
          "metadata": {
            "tags": []
          },
          "execution_count": 31
        }
      ]
    },
    {
      "cell_type": "markdown",
      "metadata": {
        "id": "N2QRe4qtSRLQ"
      },
      "source": [
        "- Mobility check on 1 Dec\n",
        "  - How is the modiblity data look like?\n",
        "    - `mobility_retail_and_recreation`\n",
        "    - `mobility_parks`\n",
        "    - `mobility_workplaces`"
      ]
    },
    {
      "cell_type": "code",
      "metadata": {
        "id": "wv2yKTYh7j9m",
        "outputId": "4574b209-2e30-447f-cb15-8804f94fde4f",
        "colab": {
          "base_uri": "https://localhost:8080/",
          "height": 317
        }
      },
      "source": [
        "client.query('''\n",
        "SELECT *\n",
        "FROM `bigquery-public-data.covid19_open_data.covid19_open_data` \n",
        "WHERE country_code = \"GB\" AND date = \"2020-12-01\" AND subregion2_code != \"None\"\n",
        "ORDER BY cumulative_confirmed\tDESC\n",
        "''').to_dataframe().describe()"
      ],
      "execution_count": 32,
      "outputs": [
        {
          "output_type": "execute_result",
          "data": {
            "text/html": [
              "<div>\n",
              "<style scoped>\n",
              "    .dataframe tbody tr th:only-of-type {\n",
              "        vertical-align: middle;\n",
              "    }\n",
              "\n",
              "    .dataframe tbody tr th {\n",
              "        vertical-align: top;\n",
              "    }\n",
              "\n",
              "    .dataframe thead th {\n",
              "        text-align: right;\n",
              "    }\n",
              "</style>\n",
              "<table border=\"1\" class=\"dataframe\">\n",
              "  <thead>\n",
              "    <tr style=\"text-align: right;\">\n",
              "      <th></th>\n",
              "      <th>aggregation_level</th>\n",
              "      <th>new_confirmed</th>\n",
              "      <th>cumulative_confirmed</th>\n",
              "      <th>mobility_transit_stations</th>\n",
              "      <th>mobility_retail_and_recreation</th>\n",
              "      <th>mobility_grocery_and_pharmacy</th>\n",
              "      <th>mobility_parks</th>\n",
              "      <th>mobility_residential</th>\n",
              "      <th>mobility_workplaces</th>\n",
              "      <th>openstreetmap_id</th>\n",
              "      <th>latitude</th>\n",
              "      <th>longitude</th>\n",
              "      <th>average_temperature_celsius</th>\n",
              "      <th>minimum_temperature_celsius</th>\n",
              "      <th>maximum_temperature_celsius</th>\n",
              "      <th>rainfall_mm</th>\n",
              "    </tr>\n",
              "  </thead>\n",
              "  <tbody>\n",
              "    <tr>\n",
              "      <th>count</th>\n",
              "      <td>182.0</td>\n",
              "      <td>181.000000</td>\n",
              "      <td>181.000000</td>\n",
              "      <td>124.000000</td>\n",
              "      <td>126.000000</td>\n",
              "      <td>126.000000</td>\n",
              "      <td>105.000000</td>\n",
              "      <td>125.000000</td>\n",
              "      <td>129.000000</td>\n",
              "      <td>1.450000e+02</td>\n",
              "      <td>159.000000</td>\n",
              "      <td>159.000000</td>\n",
              "      <td>159.000000</td>\n",
              "      <td>159.000000</td>\n",
              "      <td>159.000000</td>\n",
              "      <td>159.000000</td>\n",
              "    </tr>\n",
              "    <tr>\n",
              "      <th>mean</th>\n",
              "      <td>2.0</td>\n",
              "      <td>87.762431</td>\n",
              "      <td>9130.441989</td>\n",
              "      <td>-41.983871</td>\n",
              "      <td>-39.023810</td>\n",
              "      <td>-5.277778</td>\n",
              "      <td>11.447619</td>\n",
              "      <td>13.288000</td>\n",
              "      <td>-33.038760</td>\n",
              "      <td>4.554163e+05</td>\n",
              "      <td>52.616600</td>\n",
              "      <td>-1.594282</td>\n",
              "      <td>4.784354</td>\n",
              "      <td>2.199794</td>\n",
              "      <td>7.348447</td>\n",
              "      <td>0.603932</td>\n",
              "    </tr>\n",
              "    <tr>\n",
              "      <th>std</th>\n",
              "      <td>0.0</td>\n",
              "      <td>89.892429</td>\n",
              "      <td>7766.718995</td>\n",
              "      <td>11.530084</td>\n",
              "      <td>10.197619</td>\n",
              "      <td>8.071321</td>\n",
              "      <td>21.025617</td>\n",
              "      <td>2.555248</td>\n",
              "      <td>7.165895</td>\n",
              "      <td>1.509017e+06</td>\n",
              "      <td>1.275488</td>\n",
              "      <td>1.718141</td>\n",
              "      <td>1.000633</td>\n",
              "      <td>1.187482</td>\n",
              "      <td>0.918018</td>\n",
              "      <td>0.533091</td>\n",
              "    </tr>\n",
              "    <tr>\n",
              "      <th>min</th>\n",
              "      <td>2.0</td>\n",
              "      <td>0.000000</td>\n",
              "      <td>38.000000</td>\n",
              "      <td>-79.000000</td>\n",
              "      <td>-89.000000</td>\n",
              "      <td>-72.000000</td>\n",
              "      <td>-84.000000</td>\n",
              "      <td>7.000000</td>\n",
              "      <td>-66.000000</td>\n",
              "      <td>1.018700e+04</td>\n",
              "      <td>50.383330</td>\n",
              "      <td>-7.494000</td>\n",
              "      <td>2.411111</td>\n",
              "      <td>-0.761111</td>\n",
              "      <td>4.950000</td>\n",
              "      <td>0.025400</td>\n",
              "    </tr>\n",
              "    <tr>\n",
              "      <th>25%</th>\n",
              "      <td>2.0</td>\n",
              "      <td>37.000000</td>\n",
              "      <td>4148.000000</td>\n",
              "      <td>-50.250000</td>\n",
              "      <td>-43.000000</td>\n",
              "      <td>-8.000000</td>\n",
              "      <td>2.000000</td>\n",
              "      <td>12.000000</td>\n",
              "      <td>-37.000000</td>\n",
              "      <td>8.027700e+04</td>\n",
              "      <td>51.500000</td>\n",
              "      <td>-2.274028</td>\n",
              "      <td>4.200000</td>\n",
              "      <td>1.505556</td>\n",
              "      <td>6.865123</td>\n",
              "      <td>0.093134</td>\n",
              "    </tr>\n",
              "    <tr>\n",
              "      <th>50%</th>\n",
              "      <td>2.0</td>\n",
              "      <td>62.000000</td>\n",
              "      <td>6811.000000</td>\n",
              "      <td>-41.500000</td>\n",
              "      <td>-39.000000</td>\n",
              "      <td>-5.000000</td>\n",
              "      <td>12.000000</td>\n",
              "      <td>13.000000</td>\n",
              "      <td>-32.000000</td>\n",
              "      <td>1.466560e+05</td>\n",
              "      <td>52.480480</td>\n",
              "      <td>-1.333333</td>\n",
              "      <td>4.772222</td>\n",
              "      <td>2.160494</td>\n",
              "      <td>7.350000</td>\n",
              "      <td>0.533400</td>\n",
              "    </tr>\n",
              "    <tr>\n",
              "      <th>75%</th>\n",
              "      <td>2.0</td>\n",
              "      <td>103.000000</td>\n",
              "      <td>11211.000000</td>\n",
              "      <td>-32.750000</td>\n",
              "      <td>-35.000000</td>\n",
              "      <td>-1.000000</td>\n",
              "      <td>21.000000</td>\n",
              "      <td>15.000000</td>\n",
              "      <td>-28.000000</td>\n",
              "      <td>1.624880e+05</td>\n",
              "      <td>53.563750</td>\n",
              "      <td>-0.273889</td>\n",
              "      <td>5.105556</td>\n",
              "      <td>3.122222</td>\n",
              "      <td>7.716667</td>\n",
              "      <td>0.914400</td>\n",
              "    </tr>\n",
              "    <tr>\n",
              "      <th>max</th>\n",
              "      <td>2.0</td>\n",
              "      <td>769.000000</td>\n",
              "      <td>48486.000000</td>\n",
              "      <td>-18.000000</td>\n",
              "      <td>-5.000000</td>\n",
              "      <td>10.000000</td>\n",
              "      <td>60.000000</td>\n",
              "      <td>21.000000</td>\n",
              "      <td>-18.000000</td>\n",
              "      <td>9.448449e+06</td>\n",
              "      <td>55.203000</td>\n",
              "      <td>1.000000</td>\n",
              "      <td>7.788889</td>\n",
              "      <td>5.833333</td>\n",
              "      <td>10.044444</td>\n",
              "      <td>2.257778</td>\n",
              "    </tr>\n",
              "  </tbody>\n",
              "</table>\n",
              "</div>"
            ],
            "text/plain": [
              "       aggregation_level  ...  rainfall_mm\n",
              "count              182.0  ...   159.000000\n",
              "mean                 2.0  ...     0.603932\n",
              "std                  0.0  ...     0.533091\n",
              "min                  2.0  ...     0.025400\n",
              "25%                  2.0  ...     0.093134\n",
              "50%                  2.0  ...     0.533400\n",
              "75%                  2.0  ...     0.914400\n",
              "max                  2.0  ...     2.257778\n",
              "\n",
              "[8 rows x 16 columns]"
            ]
          },
          "metadata": {
            "tags": []
          },
          "execution_count": 32
        }
      ]
    },
    {
      "cell_type": "markdown",
      "metadata": {
        "id": "YpM_Pi7xS09t"
      },
      "source": [
        "## Work with the Essex data\n",
        "\n",
        "We can get the essex county data. Using it:\n",
        "\n",
        "- Plot the case figure growth by date\n",
        "- Plot mobility changes by date\n",
        "\n",
        "Anything interesting?\n"
      ]
    },
    {
      "cell_type": "code",
      "metadata": {
        "id": "NXiARckN8SiV",
        "outputId": "d2895576-864d-4b05-f6c0-bb90287711e5",
        "colab": {
          "base_uri": "https://localhost:8080/"
        }
      },
      "source": [
        "!pip install geopandas"
      ],
      "execution_count": 33,
      "outputs": [
        {
          "output_type": "stream",
          "text": [
            "Requirement already satisfied: geopandas in /usr/local/lib/python3.6/dist-packages (0.8.1)\n",
            "Requirement already satisfied: shapely in /usr/local/lib/python3.6/dist-packages (from geopandas) (1.7.1)\n",
            "Requirement already satisfied: pyproj>=2.2.0 in /usr/local/lib/python3.6/dist-packages (from geopandas) (3.0.0.post1)\n",
            "Requirement already satisfied: fiona in /usr/local/lib/python3.6/dist-packages (from geopandas) (1.8.18)\n",
            "Requirement already satisfied: pandas>=0.23.0 in /usr/local/lib/python3.6/dist-packages (from geopandas) (1.1.4)\n",
            "Requirement already satisfied: certifi in /usr/local/lib/python3.6/dist-packages (from pyproj>=2.2.0->geopandas) (2020.11.8)\n",
            "Requirement already satisfied: six>=1.7 in /usr/local/lib/python3.6/dist-packages (from fiona->geopandas) (1.15.0)\n",
            "Requirement already satisfied: attrs>=17 in /usr/local/lib/python3.6/dist-packages (from fiona->geopandas) (20.3.0)\n",
            "Requirement already satisfied: cligj>=0.5 in /usr/local/lib/python3.6/dist-packages (from fiona->geopandas) (0.7.1)\n",
            "Requirement already satisfied: munch in /usr/local/lib/python3.6/dist-packages (from fiona->geopandas) (2.5.0)\n",
            "Requirement already satisfied: click-plugins>=1.0 in /usr/local/lib/python3.6/dist-packages (from fiona->geopandas) (1.1.1)\n",
            "Requirement already satisfied: click<8,>=4.0 in /usr/local/lib/python3.6/dist-packages (from fiona->geopandas) (7.1.2)\n",
            "Requirement already satisfied: numpy>=1.15.4 in /usr/local/lib/python3.6/dist-packages (from pandas>=0.23.0->geopandas) (1.18.5)\n",
            "Requirement already satisfied: python-dateutil>=2.7.3 in /usr/local/lib/python3.6/dist-packages (from pandas>=0.23.0->geopandas) (2.8.1)\n",
            "Requirement already satisfied: pytz>=2017.2 in /usr/local/lib/python3.6/dist-packages (from pandas>=0.23.0->geopandas) (2018.9)\n"
          ],
          "name": "stdout"
        }
      ]
    },
    {
      "cell_type": "code",
      "metadata": {
        "id": "7w8RVeWx8U7n"
      },
      "source": [
        "import geopandas as gpd\n",
        "import matplotlib.pyplot as plt\n",
        "import seaborn as sns\n",
        "from shapely import wkt\n",
        "\n",
        "sns.set_style('whitegrid')"
      ],
      "execution_count": 91,
      "outputs": []
    },
    {
      "cell_type": "code",
      "metadata": {
        "id": "3_bLdRrc8XQH"
      },
      "source": [
        ""
      ],
      "execution_count": null,
      "outputs": []
    },
    {
      "cell_type": "code",
      "metadata": {
        "id": "eVCmOU4qVh8U"
      },
      "source": [
        "essex_df = client.query('''\n",
        "SELECT * FROM `bigquery-public-data.covid19_open_data.covid19_open_data` WHERE country_name = \"United Kingdom\" AND location_geometry IS NOT NULL\n",
        "''').to_dataframe()"
      ],
      "execution_count": 78,
      "outputs": []
    },
    {
      "cell_type": "code",
      "metadata": {
        "id": "dQ-83-Lf9toN"
      },
      "source": [
        "essex_df['location_geometry'] = essex_df['location_geometry'].astype(str)\n"
      ],
      "execution_count": 79,
      "outputs": []
    },
    {
      "cell_type": "code",
      "metadata": {
        "id": "q2_2k46uCc1e"
      },
      "source": [
        "essex_df['location_geometry'] = essex_df['location_geometry'].apply(wkt.loads)\n"
      ],
      "execution_count": 80,
      "outputs": []
    },
    {
      "cell_type": "code",
      "metadata": {
        "id": "UooZmEyv-jxx"
      },
      "source": [
        "gdf = gpd.GeoDataFrame(essex_df, geometry='location_geometry')"
      ],
      "execution_count": 81,
      "outputs": []
    },
    {
      "cell_type": "code",
      "metadata": {
        "id": "pjAj9LXOFZhU"
      },
      "source": [
        ""
      ],
      "execution_count": null,
      "outputs": []
    },
    {
      "cell_type": "code",
      "metadata": {
        "id": "rY6jscpo-wEm",
        "outputId": "8d0a6441-34f6-4b01-a781-aaef9a0c10f6",
        "colab": {
          "base_uri": "https://localhost:8080/",
          "height": 265
        }
      },
      "source": [
        "essex = gpd.read_file(gpd.datasets.get_path('naturalearth_lowres'))\n",
        "\n",
        "ax = essex[essex.name == 'United Kingdom'].plot(color='white', edgecolor='black')\n",
        "\n",
        "gdf.plot(ax=ax, color='red')\n",
        "plt.show()"
      ],
      "execution_count": 96,
      "outputs": [
        {
          "output_type": "display_data",
          "data": {
            "image/png": "[encoded data removed]",
            "text/plain": [
              "<Figure size 432x288 with 1 Axes>"
            ]
          },
          "metadata": {
            "tags": []
          }
        }
      ]
    },
    {
      "cell_type": "code",
      "metadata": {
        "id": "AMSGOQOO8sfm",
        "outputId": "e583b6bc-f46c-4359-8a83-4de45f5f023c",
        "colab": {
          "base_uri": "https://localhost:8080/",
          "height": 459
        }
      },
      "source": [
        "fig, ax = plt.subplots(1, figsize=(15,7))\n",
        "sns.lineplot(x='date', y='cumulative_confirmed', data = essex_df)"
      ],
      "execution_count": 39,
      "outputs": [
        {
          "output_type": "execute_result",
          "data": {
            "text/plain": [
              "<matplotlib.axes._subplots.AxesSubplot at 0x7f7f967fc8d0>"
            ]
          },
          "metadata": {
            "tags": []
          },
          "execution_count": 39
        },
        {
          "output_type": "display_data",
          "data": {
            "image/png": "[encoded data removed]",
            "text/plain": [
              "<Figure size 1080x504 with 1 Axes>"
            ]
          },
          "metadata": {
            "tags": []
          }
        }
      ]
    },
    {
      "cell_type": "code",
      "metadata": {
        "id": "4r3ovbR79arx",
        "outputId": "1a659cf3-3fe3-4219-f645-6c226dda03fb",
        "colab": {
          "base_uri": "https://localhost:8080/",
          "height": 459
        }
      },
      "source": [
        "fig, ax = plt.subplots(1, figsize=(15,7))\n",
        "sns.lineplot(x='date', y='new_confirmed', data = essex_df)"
      ],
      "execution_count": 40,
      "outputs": [
        {
          "output_type": "execute_result",
          "data": {
            "text/plain": [
              "<matplotlib.axes._subplots.AxesSubplot at 0x7f7fa8df6710>"
            ]
          },
          "metadata": {
            "tags": []
          },
          "execution_count": 40
        },
        {
          "output_type": "display_data",
          "data": {
            "image/png": "[encoded data removed]",
            "text/plain": [
              "<Figure size 1080x504 with 1 Axes>"
            ]
          },
          "metadata": {
            "tags": []
          }
        }
      ]
    }
  ]
}